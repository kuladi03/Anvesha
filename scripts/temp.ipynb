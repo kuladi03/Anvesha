{
 "cells": [
  {
   "cell_type": "code",
   "execution_count": null,
   "id": "8d4bee29",
   "metadata": {},
   "outputs": [
    {
     "name": "stdout",
     "output_type": "stream",
     "text": [
      "Predicted Risk: medium\n"
     ]
    }
   ],
   "source": [
    "from sklearn.preprocessing import LabelEncoder\n",
    "import joblib\n",
    "import pandas as pd\n",
    "\n",
    "# Load model and encoders\n",
    "model = joblib.load(r\"D:\\Projects\\New folder\\edudrop\\backend\\models\\dropout_risk_model.pkl\")\n",
    "label_encoders = joblib.load(r\"D:\\Projects\\New folder\\edudrop\\backend\\models\\label_encoders.pkl\")\n",
    "\n",
    "# Example MongoDB string data\n",
    "student = {\n",
    "    'gender': 'Female',\n",
    "    'age': 17,\n",
    "    'caste': 'General',\n",
    "    'area': 'Urban',\n",
    "    'standard': 10,\n",
    "    'state': 'Karnataka',\n",
    "    'school': 'Government',\n",
    "    'maritalStatus': 'Single',\n",
    "    'course': 'Science',\n",
    "    'previousQualification': 'Secondary',\n",
    "    'motherQualification': 'Graduate',\n",
    "    'fatherQualification': 'Graduate',\n",
    "    'motherOccupation': 'Labor',\n",
    "    'fatherOccupation': 'Clerk',\n",
    "    'specialNeeds': 'No',\n",
    "    'debtor': 'No',\n",
    "    'tuitionUpToDate': 'Yes',\n",
    "    'scholarshipHolder': 'Yes',\n",
    "    'profileCompleted': 'Yes',\n",
    "    'daysSinceRegistration': 180,\n",
    "    'totalActivityMinutes': 5000,\n",
    "    'attendanceRate': 0.9,\n",
    "    'averageScore': 95.0\n",
    "}\n",
    "\n",
    "# Create DataFrame\n",
    "input_df = pd.DataFrame([student])\n",
    "\n",
    "# Apply the saved label encoders\n",
    "for col, encoder in label_encoders.items():\n",
    "    if col in input_df:\n",
    "        input_df[col] = input_df[col].apply(lambda x: encoder.transform([x])[0] if x in encoder.classes_ else -1)\n",
    "\n",
    "# Predict\n",
    "pred = model.predict(input_df)[0]\n",
    "risk_label = label_encoders['riskLabel'].inverse_transform([pred])[0]\n",
    "print(\"Predicted Risk:\", risk_label)\n"
   ]
  },
  {
   "cell_type": "code",
   "execution_count": 1,
   "id": "52cc1df3",
   "metadata": {},
   "outputs": [
    {
     "name": "stdout",
     "output_type": "stream",
     "text": [
      "1.21.5\n",
      "1.1.3\n"
     ]
    }
   ],
   "source": [
    "import numpy as np\n",
    "import sklearn\n",
    "\n",
    "print(np.__version__)  # Should print 1.21.5\n",
    "print(sklearn.__version__)  # Should print 1.1.3\n"
   ]
  },
  {
   "cell_type": "code",
   "execution_count": 10,
   "id": "d72d2de3",
   "metadata": {},
   "outputs": [
    {
     "name": "stdout",
     "output_type": "stream",
     "text": [
      "⚠️ Skipping malformed line: Government Scheme,Right to Education Act (RTE),Ministry of Education,\"Children aged 6-14\",\"Free and compulsory education, no capitation fees, no screening for admission\",\"Universal access to elementary education\",https://rteportal.nic.in/\n",
      "⚠️ Skipping malformed line: Scholarship,National Means Cum Merit Scholarship,Dept. of School Education & Literacy,\"Class 9–12, family income ≤ Rs. 1.5 lakh/year, merit-based\",\"Annual scholarship for meritorious students from economically weaker sections\",\"Encourage continuation of studies after Class 8\",https://scholarships.gov.in/\n",
      "⚠️ Skipping malformed line: Scholarship,Post-Matric Scholarship for Minorities,Ministry of Minority Affairs,\"Minority students, Class 11–PhD, income ≤ Rs. 2 lakh\",\"Financial support for higher studies\",\"Promote higher education among minorities\",https://scholarships.gov.in/\n",
      "⚠️ Skipping malformed line: Scholarship,National Fellowship & Scholarship for Higher Education of ST Students,Ministry of Tribal Affairs,\"ST students, higher education\",\"Fellowship for M.Phil/PhD, scholarships for UG/PG\",\"Promote higher education among ST students\",https://scholarships.gov.in/\n",
      "⚠️ Skipping malformed line: Scholarship,Merit-cum-Means Scholarship for Professional & Technical Courses,Ministry of Minority Affairs,\"Minority students, technical/professional courses, income ≤ Rs. 2 lakh\",\"Tuition and maintenance allowance\",\"Promote professional education among minorities\",https://scholarships.gov.in/\n",
      "⚠️ Skipping malformed line: Support Program,Early Warning System (Pilot),USAID/Partner NGOs,\"At-risk students in pilot schools\",\"Data-driven identification of at-risk students, parent engagement via voice messaging\",\"Timely intervention to prevent dropouts\",https://www.usaid.gov/india/education\n",
      "⚠️ Skipping malformed line: Support Program,In-school Enrichment Activities,USAID/Partner NGOs,\"Students in pilot schools\",\"Extracurricular and cooperative learning activities\",\"Improve self-confidence, school engagement, reduce dropout\",https://www.usaid.gov/india/education\n",
      "✅ Inserted 1 records into MongoDB.\n"
     ]
    },
    {
     "name": "stderr",
     "output_type": "stream",
     "text": [
      "C:\\Users\\Hari\\AppData\\Local\\Temp\\ipykernel_3212\\2962387392.py:42: DeprecationWarning: datetime.datetime.utcnow() is deprecated and scheduled for removal in a future version. Use timezone-aware objects to represent datetimes in UTC: datetime.datetime.now(datetime.UTC).\n",
      "  \"addedOn\": datetime.utcnow()\n"
     ]
    }
   ],
   "source": [
    "import pymongo\n",
    "from datetime import datetime\n",
    "\n",
    "# MongoDB setup\n",
    "client = pymongo.MongoClient(\"mongodb://localhost:27017/\")\n",
    "db = client[\"edudrop\"]\n",
    "collection = db[\"solution_pathways\"]\n",
    "\n",
    "# Paste your CSV content as a string (raw, no quoting needed)\n",
    "csv_data = \"\"\"\n",
    "Category,Scheme/Program Name,Implementing Agency/Ministry,Target Group/Eligibility,Key Features/Benefits,Impact/Goal,Website URL\n",
    "Government Scheme,Right to Education Act (RTE),Ministry of Education,\"Children aged 6-14\",\"Free and compulsory education, no capitation fees, no screening for admission\",\"Universal access to elementary education\",https://rteportal.nic.in/\n",
    "Scholarship,National Means Cum Merit Scholarship,Dept. of School Education & Literacy,\"Class 9–12, family income ≤ Rs. 1.5 lakh/year, merit-based\",\"Annual scholarship for meritorious students from economically weaker sections\",\"Encourage continuation of studies after Class 8\",https://scholarships.gov.in/\n",
    "Scholarship,Post-Matric Scholarship for Minorities,Ministry of Minority Affairs,\"Minority students, Class 11–PhD, income ≤ Rs. 2 lakh\",\"Financial support for higher studies\",\"Promote higher education among minorities\",https://scholarships.gov.in/\n",
    "Scholarship,National Fellowship & Scholarship for Higher Education of ST Students,Ministry of Tribal Affairs,\"ST students, higher education\",\"Fellowship for M.Phil/PhD, scholarships for UG/PG\",\"Promote higher education among ST students\",https://scholarships.gov.in/\n",
    "Scholarship,Merit-cum-Means Scholarship for Professional & Technical Courses,Ministry of Minority Affairs,\"Minority students, technical/professional courses, income ≤ Rs. 2 lakh\",\"Tuition and maintenance allowance\",\"Promote professional education among minorities\",https://scholarships.gov.in/\n",
    "Support Program,Early Warning System (Pilot),USAID/Partner NGOs,\"At-risk students in pilot schools\",\"Data-driven identification of at-risk students, parent engagement via voice messaging\",\"Timely intervention to prevent dropouts\",https://www.usaid.gov/india/education\n",
    "Support Program,In-school Enrichment Activities,USAID/Partner NGOs,\"Students in pilot schools\",\"Extracurricular and cooperative learning activities\",\"Improve self-confidence, school engagement, reduce dropout\",https://www.usaid.gov/india/education\n",
    "Support Program,Inclusive Education Initiatives,Ministry of Education,\"Marginalized, disabled, girls, minorities\",\"Curriculum updates, teacher training, infrastructure improvements, targeted interventions\",\"Sustain student interest, retention, universal access\",https://dsel.education.gov.in/inclusive-education\n",
    "\"\"\"\n",
    "\n",
    "# Clean and split lines\n",
    "lines = [line.strip() for line in csv_data.strip().split(\"\\n\") if line.strip()]\n",
    "header = lines[0].split(\",\")\n",
    "\n",
    "docs = []\n",
    "\n",
    "for line in lines[1:]:\n",
    "    parts = line.split(\",\")\n",
    "    \n",
    "    # Handle fields with commas — join the known field spans manually\n",
    "    if len(parts) >= 10:\n",
    "        doc = {\n",
    "            \"dataset\": \"india\",\n",
    "            \"category\": parts[0],\n",
    "            \"title\": parts[1],\n",
    "            \"implementingAgency\": parts[2],\n",
    "            \"targetGroup\": parts[3],\n",
    "            \"description\": \", \".join(parts[4:-2]),  # Merge all description parts\n",
    "            \"impact\": parts[-2],\n",
    "            \"link\": parts[-1],\n",
    "            \"addedOn\": datetime.utcnow()\n",
    "        }\n",
    "        docs.append(doc)\n",
    "    else:\n",
    "        print(\"⚠️ Skipping malformed line:\", line)\n",
    "\n",
    "# Insert into MongoDB\n",
    "if docs:\n",
    "    result = collection.insert_many(docs)\n",
    "    print(f\"✅ Inserted {len(result.inserted_ids)} records into MongoDB.\")\n",
    "else:\n",
    "    print(\"⚠️ No valid records to insert.\")\n"
   ]
  }
 ],
 "metadata": {
  "kernelspec": {
   "display_name": "DS",
   "language": "python",
   "name": "python3"
  },
  "language_info": {
   "codemirror_mode": {
    "name": "ipython",
    "version": 3
   },
   "file_extension": ".py",
   "mimetype": "text/x-python",
   "name": "python",
   "nbconvert_exporter": "python",
   "pygments_lexer": "ipython3",
   "version": "3.13.2"
  }
 },
 "nbformat": 4,
 "nbformat_minor": 5
}
